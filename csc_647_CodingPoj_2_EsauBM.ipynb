{
 "cells": [
  {
   "cell_type": "code",
   "execution_count": 66,
   "id": "04427e44",
   "metadata": {},
   "outputs": [],
   "source": [
    "# your name: Esau Bojorquez Medina\n",
    "# date: 02/21/24\n",
    "# course number: CSC 647-01\n",
    "# assignment/activity # and brief stmt of purpose:\n",
    "# Activity: Coding Project 2\n",
    "# Bit flipping with both classical and Quantum operations. "
   ]
  },
  {
   "cell_type": "code",
   "execution_count": 67,
   "id": "b7450210",
   "metadata": {},
   "outputs": [],
   "source": [
    "# import qiskit and numpy\n",
    "from qiskit import QuantumCircuit, visualization\n",
    "from qiskit import Aer, BasicAer, assemble, transpile, execute\n",
    "from qiskit.quantum_info import Statevector, Operator\n",
    "from datetime import datetime\n",
    "from qiskit.tools.visualization import plot_histogram, plot_state_city,plot_bloch_multivector\n",
    "import qiskit.quantum_info as qi\n",
    "import numpy as np"
   ]
  },
  {
   "cell_type": "code",
   "execution_count": 68,
   "id": "9cdac773",
   "metadata": {},
   "outputs": [
    {
     "name": "stdout",
     "output_type": "stream",
     "text": [
      "Before:\t 0 1 2 3 4 5 6 7\n",
      "  Binary before:\t 001\n",
      "  Binary flipped:\t 111\n",
      "  Binary before:\t 011\n",
      "  Binary flipped:\t 101\n",
      "  Binary before:\t 101\n",
      "  Binary flipped:\t 011\n",
      "  Binary before:\t 111\n",
      "  Binary flipped:\t 001\n",
      "After:\t 0 7 2 5 4 3 6 1\n"
     ]
    }
   ],
   "source": [
    "#PART 1 A\n",
    "\n",
    "# Given a set of 2^3 3-bit vectors, [000, 001, … , 110, 111],\n",
    "#   flip the two most significant bits (MSBs) if the least significant bit\n",
    "#   (LSB) is set. The LSB of input always goes to the output.\n",
    "\n",
    "#data set\n",
    "in_data = [0b000, 0b001, 0b010, 0b011,  0b100, 0b101, 0b110, 0b111]\n",
    "print(\"Before:\\t\",*in_data)\n",
    "    \n",
    "#iterating over our array\n",
    "for bit in in_data:\n",
    "    #If the least most bit is engaged we have an odd number,\n",
    "    # using this we can filter\n",
    "    if in_data[bit] % 2 != 0:\n",
    "        print(\"  Binary before:\\t\", bin(in_data[bit])[2:].zfill(3))\n",
    "        # 6 = 0b110 we can use that to flip the 2 most significant bits\n",
    "        in_data[bit] = (in_data[bit] ^ 6)\n",
    "        print(\"  Binary flipped:\\t\", bin(in_data[bit])[2:].zfill(3))\n",
    "print(\"After:\\t\",*in_data)     \n",
    "\n"
   ]
  },
  {
   "cell_type": "code",
   "execution_count": 69,
   "id": "150e3e23",
   "metadata": {},
   "outputs": [
    {
     "name": "stdout",
     "output_type": "stream",
     "text": [
      "Binary:\t 000\n",
      "Statevector:\n"
     ]
    },
    {
     "data": {
      "text/latex": [
       "$$ |000\\rangle$$"
      ],
      "text/plain": [
       "<IPython.core.display.Latex object>"
      ]
     },
     "metadata": {},
     "output_type": "display_data"
    },
    {
     "name": "stdout",
     "output_type": "stream",
     "text": [
      "Circuit:\n",
      "     \n",
      "q_0: \n",
      "     \n",
      "q_1: \n",
      "     \n",
      "q_2: \n",
      "     \n",
      "Binary:\t 001\n",
      "*flipped two MSB*\n",
      "Statevector:\n"
     ]
    },
    {
     "data": {
      "text/latex": [
       "$$ |111\\rangle$$"
      ],
      "text/plain": [
       "<IPython.core.display.Latex object>"
      ]
     },
     "metadata": {},
     "output_type": "display_data"
    },
    {
     "name": "stdout",
     "output_type": "stream",
     "text": [
      "Circuit:\n",
      "     ┌───┐          \n",
      "q_0: ┤ X ├──■────■──\n",
      "     └───┘┌─┴─┐  │  \n",
      "q_1: ─────┤ X ├──┼──\n",
      "          └───┘┌─┴─┐\n",
      "q_2: ──────────┤ X ├\n",
      "               └───┘\n",
      "Binary:\t 010\n",
      "Statevector:\n"
     ]
    },
    {
     "data": {
      "text/latex": [
       "$$ |010\\rangle$$"
      ],
      "text/plain": [
       "<IPython.core.display.Latex object>"
      ]
     },
     "metadata": {},
     "output_type": "display_data"
    },
    {
     "name": "stdout",
     "output_type": "stream",
     "text": [
      "Circuit:\n",
      "          \n",
      "q_0: ─────\n",
      "     ┌───┐\n",
      "q_1: ┤ X ├\n",
      "     └───┘\n",
      "q_2: ─────\n",
      "          \n",
      "Binary:\t 011\n",
      "*flipped two MSB*\n",
      "Statevector:\n"
     ]
    },
    {
     "data": {
      "text/latex": [
       "$$ |101\\rangle$$"
      ],
      "text/plain": [
       "<IPython.core.display.Latex object>"
      ]
     },
     "metadata": {},
     "output_type": "display_data"
    },
    {
     "name": "stdout",
     "output_type": "stream",
     "text": [
      "Circuit:\n",
      "     ┌───┐          \n",
      "q_0: ┤ X ├──■────■──\n",
      "     ├───┤┌─┴─┐  │  \n",
      "q_1: ┤ X ├┤ X ├──┼──\n",
      "     └───┘└───┘┌─┴─┐\n",
      "q_2: ──────────┤ X ├\n",
      "               └───┘\n",
      "Binary:\t 100\n",
      "Statevector:\n"
     ]
    },
    {
     "data": {
      "text/latex": [
       "$$ |100\\rangle$$"
      ],
      "text/plain": [
       "<IPython.core.display.Latex object>"
      ]
     },
     "metadata": {},
     "output_type": "display_data"
    },
    {
     "name": "stdout",
     "output_type": "stream",
     "text": [
      "Circuit:\n",
      "          \n",
      "q_0: ─────\n",
      "          \n",
      "q_1: ─────\n",
      "     ┌───┐\n",
      "q_2: ┤ X ├\n",
      "     └───┘\n",
      "Binary:\t 101\n",
      "*flipped two MSB*\n",
      "Statevector:\n"
     ]
    },
    {
     "data": {
      "text/latex": [
       "$$ |110\\rangle$$"
      ],
      "text/plain": [
       "<IPython.core.display.Latex object>"
      ]
     },
     "metadata": {},
     "output_type": "display_data"
    },
    {
     "name": "stdout",
     "output_type": "stream",
     "text": [
      "Circuit:\n",
      "                    \n",
      "q_0: ───────■────■──\n",
      "     ┌───┐┌─┴─┐  │  \n",
      "q_1: ┤ X ├┤ X ├──┼──\n",
      "     ├───┤└───┘┌─┴─┐\n",
      "q_2: ┤ X ├─────┤ X ├\n",
      "     └───┘     └───┘\n",
      "Binary:\t 110\n",
      "Statevector:\n"
     ]
    },
    {
     "data": {
      "text/latex": [
       "$$ |110\\rangle$$"
      ],
      "text/plain": [
       "<IPython.core.display.Latex object>"
      ]
     },
     "metadata": {},
     "output_type": "display_data"
    },
    {
     "name": "stdout",
     "output_type": "stream",
     "text": [
      "Circuit:\n",
      "          \n",
      "q_0: ─────\n",
      "     ┌───┐\n",
      "q_1: ┤ X ├\n",
      "     ├───┤\n",
      "q_2: ┤ X ├\n",
      "     └───┘\n",
      "Binary:\t 111\n",
      "*flipped two MSB*\n",
      "Statevector:\n"
     ]
    },
    {
     "data": {
      "text/latex": [
       "$$ |001\\rangle$$"
      ],
      "text/plain": [
       "<IPython.core.display.Latex object>"
      ]
     },
     "metadata": {},
     "output_type": "display_data"
    },
    {
     "name": "stdout",
     "output_type": "stream",
     "text": [
      "Circuit:\n",
      "     ┌───┐          \n",
      "q_0: ┤ X ├──■────■──\n",
      "     ├───┤┌─┴─┐  │  \n",
      "q_1: ┤ X ├┤ X ├──┼──\n",
      "     ├───┤└───┘┌─┴─┐\n",
      "q_2: ┤ X ├─────┤ X ├\n",
      "     └───┘     └───┘\n"
     ]
    }
   ],
   "source": [
    "#PART 1 B\n",
    "\n",
    "#  You will create multiple circuits: one for each of the input values.\n",
    "# To initialize the state of your qubits to reflect the bit settings of the\n",
    "# input values, DO NOT USE qiskit’s Initialize method. Instead, assume that\n",
    "# qubits are created in a |0> state, and if you need to flip the state to |1>,\n",
    "# use the appropriate gate (eg, from CP1) that flips the state of a specific \n",
    "# qubit. You do not need a measurement gate in this circuit.\n",
    "\n",
    "# 3 qubit circuit function for bin numbers 1-8\n",
    "def makeQC(qcSpecs):\n",
    "    builder = QuantumCircuit(3)\n",
    "    if qcSpecs == 1: \n",
    "        #First qubit \n",
    "        builder.x(0)\n",
    "    elif qcSpecs == 2:\n",
    "        #second qubit\n",
    "        builder.x(1)\n",
    "    elif qcSpecs == 3:\n",
    "        #Fist 2 qubits\n",
    "        builder.x([0, 1])\n",
    "    elif qcSpecs == 4:\n",
    "        #last qubit\n",
    "        builder.x(2)\n",
    "    elif qcSpecs == 5:\n",
    "        #Last 2 qubits\n",
    "        builder.x([2, 1])\n",
    "    elif qcSpecs == 6:\n",
    "        #\n",
    "        builder.x([2,1])\n",
    "    elif qcSpecs == 7:\n",
    "        builder.x([0, 1, 2])\n",
    "    return builder\n",
    "\n",
    "#data set\n",
    "in_data = [0b000, 0b001, 0b010, 0b011,  0b100, 0b101, 0b110, 0b111]\n",
    "\n",
    "#loop for our iterations\n",
    "for i in in_data:\n",
    "    # Printing input value\n",
    "    print(\"Binary:\\t\", bin(i)[2:].zfill(3))\n",
    "    #calling function to make out \n",
    "    QC = makeQC(i)\n",
    "    if i % 2 != 0:\n",
    "        #flipping from first quibit \n",
    "        QC.cx(0, 1)  \n",
    "        QC.cx(0, 2)\n",
    "        print(\"*flipped two MSB*\")\n",
    "    print(\"Statevector:\") \n",
    "    display(Statevector(QC).draw(\"latex\"))\n",
    "    print(\"Circuit:\")\n",
    "    print(QC)\n",
    "    \n",
    "    \n",
    "#     Discussion questions:\n",
    "\n",
    "# What gate do you use in your circuit to test what happens on \n",
    "# one qubit but then influences what happens on a different qubit?\n",
    "\n",
    "#   The gate I used was the CX gate. This cNot gate is placed on the first\n",
    "# qubit ready to flip our second and last qubit.\n",
    "\n",
    "# What type of condition, or relationship, does that gate create between\n",
    "# pairs of qubits?\n",
    "\n",
    "#  It would create an \"or\" condition between the qubits because when our \n",
    "# conditional bit is engaged we can flip our other bit. The reason it is not and\n",
    "# would be due to the triggering points for the cNot gate.\n",
    "\n",
    "\n",
    "# Describe what happens in your circuit (for one qubit pair) when\n",
    "# this condition exists.\n",
    "\n",
    "# When this condition exists, the circuit checks if our conditional qubit \n",
    "# is engaged. If so, our target qubit would then be flipped. From 1 to 0 and 0 to 1.\n",
    "\n",
    "    \n",
    "   \n",
    "\n",
    "\n"
   ]
  },
  {
   "cell_type": "code",
   "execution_count": 70,
   "id": "cd38b39e",
   "metadata": {},
   "outputs": [
    {
     "name": "stdout",
     "output_type": "stream",
     "text": [
      "----------------------------\n",
      "Binary:\t 000\n",
      "Statevector:\n"
     ]
    },
    {
     "data": {
      "text/latex": [
       "$$ |000\\rangle$$"
      ],
      "text/plain": [
       "<IPython.core.display.Latex object>"
      ]
     },
     "metadata": {},
     "output_type": "display_data"
    },
    {
     "name": "stdout",
     "output_type": "stream",
     "text": [
      "Circuit:\n",
      "     \n",
      "q_0: \n",
      "     \n",
      "q_1: \n",
      "     \n",
      "q_2: \n",
      "     \n",
      "----------------------------\n",
      "Binary:\t 001\n",
      "*flipped two MSB*\n",
      "Statevector:\n"
     ]
    },
    {
     "data": {
      "text/latex": [
       "$$ |111\\rangle$$"
      ],
      "text/plain": [
       "<IPython.core.display.Latex object>"
      ]
     },
     "metadata": {},
     "output_type": "display_data"
    },
    {
     "name": "stdout",
     "output_type": "stream",
     "text": [
      "Circuit:\n",
      "          ┌───┐     \n",
      "q_0: ─────┤ X ├─────\n",
      "          └─┬─┘┌───┐\n",
      "q_1: ───────┼──┤ X ├\n",
      "     ┌───┐  │  └─┬─┘\n",
      "q_2: ┤ X ├──■────■──\n",
      "     └───┘          \n",
      "----------------------------\n",
      "Binary:\t 010\n",
      "Statevector:\n"
     ]
    },
    {
     "data": {
      "text/latex": [
       "$$ |010\\rangle$$"
      ],
      "text/plain": [
       "<IPython.core.display.Latex object>"
      ]
     },
     "metadata": {},
     "output_type": "display_data"
    },
    {
     "name": "stdout",
     "output_type": "stream",
     "text": [
      "Circuit:\n",
      "          \n",
      "q_0: ─────\n",
      "     ┌───┐\n",
      "q_1: ┤ X ├\n",
      "     └───┘\n",
      "q_2: ─────\n",
      "          \n",
      "----------------------------\n",
      "Binary:\t 011\n",
      "*flipped two MSB*\n",
      "Statevector:\n"
     ]
    },
    {
     "data": {
      "text/latex": [
       "$$ |101\\rangle$$"
      ],
      "text/plain": [
       "<IPython.core.display.Latex object>"
      ]
     },
     "metadata": {},
     "output_type": "display_data"
    },
    {
     "name": "stdout",
     "output_type": "stream",
     "text": [
      "Circuit:\n",
      "          ┌───┐     \n",
      "q_0: ─────┤ X ├─────\n",
      "     ┌───┐└─┬─┘┌───┐\n",
      "q_1: ┤ X ├──┼──┤ X ├\n",
      "     ├───┤  │  └─┬─┘\n",
      "q_2: ┤ X ├──■────■──\n",
      "     └───┘          \n",
      "----------------------------\n",
      "Binary:\t 100\n",
      "Statevector:\n"
     ]
    },
    {
     "data": {
      "text/latex": [
       "$$ |001\\rangle$$"
      ],
      "text/plain": [
       "<IPython.core.display.Latex object>"
      ]
     },
     "metadata": {},
     "output_type": "display_data"
    },
    {
     "name": "stdout",
     "output_type": "stream",
     "text": [
      "Circuit:\n",
      "     ┌───┐\n",
      "q_0: ┤ X ├\n",
      "     └───┘\n",
      "q_1: ─────\n",
      "          \n",
      "q_2: ─────\n",
      "          \n",
      "----------------------------\n",
      "Binary:\t 101\n",
      "*flipped two MSB*\n",
      "Statevector:\n"
     ]
    },
    {
     "data": {
      "text/latex": [
       "$$ |011\\rangle$$"
      ],
      "text/plain": [
       "<IPython.core.display.Latex object>"
      ]
     },
     "metadata": {},
     "output_type": "display_data"
    },
    {
     "name": "stdout",
     "output_type": "stream",
     "text": [
      "Circuit:\n",
      "     ┌───┐┌───┐     \n",
      "q_0: ┤ X ├┤ X ├─────\n",
      "     ├───┤└─┬─┘┌───┐\n",
      "q_1: ┤ X ├──┼──┤ X ├\n",
      "     └───┘  │  └─┬─┘\n",
      "q_2: ───────■────■──\n",
      "                    \n",
      "----------------------------\n",
      "Binary:\t 110\n",
      "Statevector:\n"
     ]
    },
    {
     "data": {
      "text/latex": [
       "$$ |011\\rangle$$"
      ],
      "text/plain": [
       "<IPython.core.display.Latex object>"
      ]
     },
     "metadata": {},
     "output_type": "display_data"
    },
    {
     "name": "stdout",
     "output_type": "stream",
     "text": [
      "Circuit:\n",
      "     ┌───┐\n",
      "q_0: ┤ X ├\n",
      "     ├───┤\n",
      "q_1: ┤ X ├\n",
      "     └───┘\n",
      "q_2: ─────\n",
      "          \n",
      "----------------------------\n",
      "Binary:\t 111\n",
      "*flipped two MSB*\n",
      "Statevector:\n"
     ]
    },
    {
     "data": {
      "text/latex": [
       "$$ |100\\rangle$$"
      ],
      "text/plain": [
       "<IPython.core.display.Latex object>"
      ]
     },
     "metadata": {},
     "output_type": "display_data"
    },
    {
     "name": "stdout",
     "output_type": "stream",
     "text": [
      "Circuit:\n",
      "     ┌───┐┌───┐     \n",
      "q_0: ┤ X ├┤ X ├─────\n",
      "     ├───┤└─┬─┘┌───┐\n",
      "q_1: ┤ X ├──┼──┤ X ├\n",
      "     ├───┤  │  └─┬─┘\n",
      "q_2: ┤ X ├──■────■──\n",
      "     └───┘          \n"
     ]
    }
   ],
   "source": [
    "#Part 2\n",
    "\n",
    "# 3 qubit circuit function for bin numbers 1-8\n",
    "def makeQC(qcSpecs):\n",
    "    builder = QuantumCircuit(3)\n",
    "    if qcSpecs == 1: \n",
    "        builder.x(2)\n",
    "    elif qcSpecs == 2:\n",
    "        builder.x(1)\n",
    "    elif qcSpecs == 3:\n",
    "        builder.x([1, 2])\n",
    "    elif qcSpecs == 4:\n",
    "        builder.x(0)\n",
    "    elif qcSpecs == 5:\n",
    "        builder.x([0, 1])\n",
    "    elif qcSpecs == 6:\n",
    "        builder.x([0,1])\n",
    "    elif qcSpecs == 7:\n",
    "        builder.x([0, 1, 2])\n",
    "    return builder\n",
    "\n",
    "in_data = [0b000, 0b001, 0b010, 0b011,  0b100, 0b101, 0b110, 0b111]\n",
    "\n",
    "#loop for our iterations\n",
    "for i in in_data:\n",
    "    # Printing input value\n",
    "    print(\"----------------------------\")\n",
    "    print(\"Binary:\\t\", bin(i)[2:].zfill(3))\n",
    "    #calling function to make out \n",
    "    QC = makeQC(i)\n",
    "    if i % 2 != 0:\n",
    "        #flipping from quibit 3\n",
    "        QC.cx(2, 0)  \n",
    "        QC.cx(2, 1)\n",
    "        print(\"*flipped two MSB*\")\n",
    "    print(\"Statevector:\") \n",
    "    display(Statevector(QC).draw(\"latex\"))\n",
    "    print(\"Circuit:\")\n",
    "    print(QC)\n",
    "    \n",
    "# Discussion questions:\n",
    "# What gate do you use in your circuit to test what happens on one qubit \n",
    "# but then influences what happens on a different qubit?\n",
    "\n",
    "#  -  The gate I used was also the CX gate. This cNot gate is placed on the last\n",
    "# qubit ready to flip our first and second qubit.\n",
    "\n",
    "# What type of condition, or relationship, does that gate create \n",
    "# between pairs of qubits?\n",
    "\n",
    "#  -  This helps us create an \"or\" condition allowing us to flip based on \n",
    "#   qubit current state. \n",
    "\n",
    "# Describe what happens in your circuit when this condition exists?\n",
    "\n",
    "#  -  In this circuit, we are initializing the circuit in another method. \n",
    "#  Then whenever we come accross an odd binary number we would need to flip MSBs.\n",
    "#  So after hitting this condition teh cNot gate is applied allowing for the circuit \n",
    "#  to check on our last bit. Seeing it is engaged, the other bits would then be flipped. \n",
    "    \n",
    "    "
   ]
  },
  {
   "cell_type": "code",
   "execution_count": 72,
   "id": "c91e2483",
   "metadata": {},
   "outputs": [
    {
     "name": "stdout",
     "output_type": "stream",
     "text": [
      "Circuit:\n",
      "          ┌───┐┌───┐┌───┐\n",
      "q_0: ─────┤ X ├┤ H ├┤ X ├\n",
      "     ┌───┐└─┬─┘├───┤└───┘\n",
      "q_1: ┤ H ├──■──┤ H ├─────\n",
      "     └───┘     └───┘     \n"
     ]
    },
    {
     "data": {
      "text/latex": [
       "$$\\frac{\\sqrt{2}}{2} |01\\rangle+\\frac{\\sqrt{2}}{2} |10\\rangle$$"
      ],
      "text/plain": [
       "<IPython.core.display.Latex object>"
      ]
     },
     "metadata": {},
     "output_type": "display_data"
    },
    {
     "name": "stdout",
     "output_type": "stream",
     "text": [
      "Statevector([0.+0.0000000e+00j, 0.+0.0000000e+00j, 1.-1.2246468e-16j,\n",
      "             0.+0.0000000e+00j],\n",
      "            dims=(2, 2))\n"
     ]
    },
    {
     "data": {
      "image/png": "[encoded data removed]",
      "text/plain": [
       "<Figure size 700x500 with 1 Axes>"
      ]
     },
     "execution_count": 72,
     "metadata": {},
     "output_type": "execute_result"
    }
   ],
   "source": [
    "#Part 3\n",
    "\n",
    "# Construct a 2-qubit quantum circuit that will result in\n",
    "# a final distribution that concentrates 50% of the probabilities\n",
    "# on states |10> and |01>. This circuit should include gates that\n",
    "# create states of superposition, whatever gates you need to steer \n",
    "# the solution towards the target states, and measurement gates. Run\n",
    "# this circuit using the aer_simulator simulator for 1000 shots.\n",
    "# Obtain the counts from the results() object and plot the histogram\n",
    "# of counts/probabilities using qiskit’s plot_distribution() method \n",
    "# to show your results. \n",
    "\n",
    "# 2 qubit circuit\n",
    "QC3 = QuantumCircuit(2)\n",
    "\n",
    "#Gates to get 01 and 10\n",
    "QC3.h(1)\n",
    "QC3.cx(1,0)\n",
    "QC3.h([0,1])\n",
    "QC3.x(0)\n",
    "\n",
    "#printing Circuit\n",
    "print(\"Circuit:\")\n",
    "print(QC3)\n",
    "\n",
    "#Printing Statevector\n",
    "display(Statevector(QC3).draw(\"latex\"))\n",
    "\n",
    "\n",
    "#Measuring and saving\n",
    "QC3.measure_all()\n",
    "QC3.save_statevector()\n",
    "\n",
    "\n",
    "# Running circuit\n",
    "os = Aer.get_backend('aer_simulator_statevector')\n",
    "QC3 = transpile(QC3, os)\n",
    "\n",
    "#1000 shots\n",
    "res = os.run(QC3,shots = 1000)\n",
    "\n",
    "# Grabbing/printing saved state vector\n",
    "stateVec = res.result().get_statevector()\n",
    "print(stateVec)\n",
    "\n",
    "#Obtaining COUNTS and printing. \n",
    "value = res.result().get_counts()\n",
    "\n",
    "# Histogram\n",
    "plot_histogram(value, title = \"Circuit 3\")\n",
    "\n",
    "\n",
    "\n",
    "# Discussion questions:\n",
    "# In this example we are using the aer_simulator and displaying \n",
    "# a distribution of counts. Describe the difference between displaying\n",
    "# results as histograms of counts compared to displaying the state vector \n",
    "# as in Parts 1 and 2 of this assignment. What information is contained in\n",
    "# the counts that is not present in the state vector, and why?\n",
    "\n",
    "# - Displaying the histogram, we are running the circut a great deal of times.\n",
    "# This allows us to have the main difference of percentage based data. Where \n",
    "# as displaying the state vector, it is only taking into account the measurment\n",
    "# at a specific time. \n",
    "\n",
    "# In this example, how many computational basis states exist in this \n",
    "# circuit? In other words, what are the potential outcomes of this circuit?\n",
    "\n",
    "# - For this circit there are 2 outcomes. The state typically lands at a 50-50% between \n",
    "# |01> and |10>\n",
    "\n",
    "# How would this number of potential outcomes change if, say, we had\n",
    "# N=4 qubits, or N=8 qubits?\n",
    "\n",
    "# The number of outcomes would not change, however the amount of data we can get\n",
    "# would be at a greater level of accuracy. "
   ]
  },
  {
   "cell_type": "code",
   "execution_count": null,
   "id": "ac641422",
   "metadata": {},
   "outputs": [],
   "source": []
  }
 ],
 "metadata": {
  "kernelspec": {
   "display_name": "Python 3 (ipykernel)",
   "language": "python",
   "name": "python3"
  },
  "language_info": {
   "codemirror_mode": {
    "name": "ipython",
    "version": 3
   },
   "file_extension": ".py",
   "mimetype": "text/x-python",
   "name": "python",
   "nbconvert_exporter": "python",
   "pygments_lexer": "ipython3",
   "version": "3.9.13"
  }
 },
 "nbformat": 4,
 "nbformat_minor": 5
}
